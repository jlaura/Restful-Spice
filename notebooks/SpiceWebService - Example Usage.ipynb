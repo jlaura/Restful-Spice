{
 "cells": [
  {
   "cell_type": "code",
   "execution_count": 1,
   "metadata": {
    "collapsed": true
   },
   "outputs": [],
   "source": [
    "import json\n",
    "\n",
    "import pvl\n",
    "import requests"
   ]
  },
  {
   "cell_type": "markdown",
   "metadata": {},
   "source": [
    "## Create the necessary input data\n",
    "\n",
    "To create an ISD we require the following:\n",
    "\n",
    "- target_name, e.g. Mercury\n",
    "- capture_date (PDS data product dates appear to be ISO 8601 compliant)\n",
    "- instrument, e.g. mdis-nac\n",
    "- focal_plane_temperature (optionally included for temperature dependent focal lengths)\n",
    "- spacecraft_id, e.g. messenger\n",
    "- spacecraft_clock_count, from the label\n",
    "- exposure_duration, from the label\n",
    "- lighttime_correction, to tell spice what to use\n",
    "- min_elevation (make optional?)\n",
    "- max_elevation (make optional?)\n",
    "\n",
    "For the last two, it might be easier/better to take the intital center point from the PDS label and hit a low res. DEM to find these automatically for the user."
   ]
  },
  {
   "cell_type": "code",
   "execution_count": 2,
   "metadata": {
    "collapsed": true
   },
   "outputs": [],
   "source": [
    "label = pvl.load('/data/messenger_sample/EN0211587012M.IMG')\n",
    "data = {'target_name': label['TARGET_NAME'],\n",
    "        'capture_date': label['START_TIME'].isoformat(),\n",
    "        'instrument': label['INSTRUMENT_NAME'], \n",
    "        'focal_plane_temperature': label['FOCAL_PLANE_TEMPERATURE'].value,\n",
    "        'spacecraft_id' : label['INSTRUMENT_HOST_NAME'],\n",
    "        'spacecraft_clock_count': label['SPACECRAFT_CLOCK_START_COUNT'],\n",
    "        'exposure_duration': label['EXPOSURE_DURATION'].value,\n",
    "        'lighttime_correction':'LT+S', \n",
    "        'min_elevation': -100,\n",
    "        'max_elevation': 100\n",
    "        }\n",
    "import json\n",
    "data = json.dumps(data)"
   ]
  },
  {
   "cell_type": "markdown",
   "metadata": {},
   "source": [
    "## Standard API landing page"
   ]
  },
  {
   "cell_type": "code",
   "execution_count": 3,
   "metadata": {},
   "outputs": [
    {
     "data": {
      "text/plain": [
       "{'apis': {'1.0': 'api/1.0'}, 'status': 'success'}"
      ]
     },
     "execution_count": 3,
     "metadata": {},
     "output_type": "execute_result"
    }
   ],
   "source": [
    "r = requests.get('http://localhost:5000')\n",
    "r.json()"
   ]
  },
  {
   "cell_type": "markdown",
   "metadata": {},
   "source": [
    "## Pushing the API into a namespace and versioning is good practice"
   ]
  },
  {
   "cell_type": "code",
   "execution_count": 4,
   "metadata": {},
   "outputs": [
    {
     "data": {
      "text/plain": [
       "{'data': {'available_missions': {'mercury': {'messenger': '/api/1.0/mercury/messenger'}}},\n",
       " 'success': True}"
      ]
     },
     "execution_count": 4,
     "metadata": {},
     "output_type": "execute_result"
    }
   ],
   "source": [
    "r = requests.get('http://localhost:5000/api/1.0')\n",
    "r.json()"
   ]
  },
  {
   "cell_type": "markdown",
   "metadata": {},
   "source": [
    "## Example listing of the kernels"
   ]
  },
  {
   "cell_type": "code",
   "execution_count": 5,
   "metadata": {
    "scrolled": true
   },
   "outputs": [
    {
     "data": {
      "text/plain": [
       "{'data': {'description': 'All available meta kernels for a given body and mission in sorted order.  The first meta kernel in the list will be loaded unless a different metakernel is specified.',\n",
       "  'kernels': {'2004': ['/data/spice/mess-e_v_h-spice-6-v1.0/messsp_1000/extras/mk/msgr_2004_v13.tm',\n",
       "    '/data/spice/mess-e_v_h-spice-6-v1.0/messsp_1000/extras/mk/msgr_2004_v12.tm',\n",
       "    '/data/spice/mess-e_v_h-spice-6-v1.0/messsp_1000/extras/mk/msgr_2004_v11.tm',\n",
       "    '/data/spice/mess-e_v_h-spice-6-v1.0/messsp_1000/extras/mk/msgr_2004_v10.tm',\n",
       "    '/data/spice/mess-e_v_h-spice-6-v1.0/messsp_1000/extras/mk/msgr_2004_v09.tm',\n",
       "    '/data/spice/mess-e_v_h-spice-6-v1.0/messsp_1000/extras/mk/msgr_2004_v08.tm',\n",
       "    '/data/spice/mess-e_v_h-spice-6-v1.0/messsp_1000/extras/mk/msgr_2004_v07.tm',\n",
       "    '/data/spice/mess-e_v_h-spice-6-v1.0/messsp_1000/extras/mk/msgr_2004_v06.tm',\n",
       "    '/data/spice/mess-e_v_h-spice-6-v1.0/messsp_1000/extras/mk/msgr_2004_v05.tm',\n",
       "    '/data/spice/mess-e_v_h-spice-6-v1.0/messsp_1000/extras/mk/msgr_2004_v04.tm',\n",
       "    '/data/spice/mess-e_v_h-spice-6-v1.0/messsp_1000/extras/mk/msgr_2004_v03.tm',\n",
       "    '/data/spice/mess-e_v_h-spice-6-v1.0/messsp_1000/extras/mk/msgr_2004_v02.tm',\n",
       "    '/data/spice/mess-e_v_h-spice-6-v1.0/messsp_1000/extras/mk/msgr_2004_v01.tm'],\n",
       "   '2005': ['/data/spice/mess-e_v_h-spice-6-v1.0/messsp_1000/extras/mk/msgr_2005_v13.tm',\n",
       "    '/data/spice/mess-e_v_h-spice-6-v1.0/messsp_1000/extras/mk/msgr_2005_v12.tm',\n",
       "    '/data/spice/mess-e_v_h-spice-6-v1.0/messsp_1000/extras/mk/msgr_2005_v11.tm',\n",
       "    '/data/spice/mess-e_v_h-spice-6-v1.0/messsp_1000/extras/mk/msgr_2005_v10.tm',\n",
       "    '/data/spice/mess-e_v_h-spice-6-v1.0/messsp_1000/extras/mk/msgr_2005_v09.tm',\n",
       "    '/data/spice/mess-e_v_h-spice-6-v1.0/messsp_1000/extras/mk/msgr_2005_v08.tm',\n",
       "    '/data/spice/mess-e_v_h-spice-6-v1.0/messsp_1000/extras/mk/msgr_2005_v07.tm',\n",
       "    '/data/spice/mess-e_v_h-spice-6-v1.0/messsp_1000/extras/mk/msgr_2005_v06.tm',\n",
       "    '/data/spice/mess-e_v_h-spice-6-v1.0/messsp_1000/extras/mk/msgr_2005_v05.tm',\n",
       "    '/data/spice/mess-e_v_h-spice-6-v1.0/messsp_1000/extras/mk/msgr_2005_v04.tm',\n",
       "    '/data/spice/mess-e_v_h-spice-6-v1.0/messsp_1000/extras/mk/msgr_2005_v03.tm',\n",
       "    '/data/spice/mess-e_v_h-spice-6-v1.0/messsp_1000/extras/mk/msgr_2005_v02.tm',\n",
       "    '/data/spice/mess-e_v_h-spice-6-v1.0/messsp_1000/extras/mk/msgr_2005_v01.tm'],\n",
       "   '2006': ['/data/spice/mess-e_v_h-spice-6-v1.0/messsp_1000/extras/mk/msgr_2006_v13.tm',\n",
       "    '/data/spice/mess-e_v_h-spice-6-v1.0/messsp_1000/extras/mk/msgr_2006_v12.tm',\n",
       "    '/data/spice/mess-e_v_h-spice-6-v1.0/messsp_1000/extras/mk/msgr_2006_v11.tm',\n",
       "    '/data/spice/mess-e_v_h-spice-6-v1.0/messsp_1000/extras/mk/msgr_2006_v10.tm',\n",
       "    '/data/spice/mess-e_v_h-spice-6-v1.0/messsp_1000/extras/mk/msgr_2006_v09.tm',\n",
       "    '/data/spice/mess-e_v_h-spice-6-v1.0/messsp_1000/extras/mk/msgr_2006_v08.tm',\n",
       "    '/data/spice/mess-e_v_h-spice-6-v1.0/messsp_1000/extras/mk/msgr_2006_v07.tm',\n",
       "    '/data/spice/mess-e_v_h-spice-6-v1.0/messsp_1000/extras/mk/msgr_2006_v06.tm',\n",
       "    '/data/spice/mess-e_v_h-spice-6-v1.0/messsp_1000/extras/mk/msgr_2006_v05.tm',\n",
       "    '/data/spice/mess-e_v_h-spice-6-v1.0/messsp_1000/extras/mk/msgr_2006_v04.tm',\n",
       "    '/data/spice/mess-e_v_h-spice-6-v1.0/messsp_1000/extras/mk/msgr_2006_v03.tm',\n",
       "    '/data/spice/mess-e_v_h-spice-6-v1.0/messsp_1000/extras/mk/msgr_2006_v02.tm',\n",
       "    '/data/spice/mess-e_v_h-spice-6-v1.0/messsp_1000/extras/mk/msgr_2006_v01.tm'],\n",
       "   '2007': ['/data/spice/mess-e_v_h-spice-6-v1.0/messsp_1000/extras/mk/msgr_2007_v13.tm',\n",
       "    '/data/spice/mess-e_v_h-spice-6-v1.0/messsp_1000/extras/mk/msgr_2007_v12.tm',\n",
       "    '/data/spice/mess-e_v_h-spice-6-v1.0/messsp_1000/extras/mk/msgr_2007_v11.tm',\n",
       "    '/data/spice/mess-e_v_h-spice-6-v1.0/messsp_1000/extras/mk/msgr_2007_v10.tm',\n",
       "    '/data/spice/mess-e_v_h-spice-6-v1.0/messsp_1000/extras/mk/msgr_2007_v09.tm',\n",
       "    '/data/spice/mess-e_v_h-spice-6-v1.0/messsp_1000/extras/mk/msgr_2007_v08.tm',\n",
       "    '/data/spice/mess-e_v_h-spice-6-v1.0/messsp_1000/extras/mk/msgr_2007_v07.tm',\n",
       "    '/data/spice/mess-e_v_h-spice-6-v1.0/messsp_1000/extras/mk/msgr_2007_v06.tm',\n",
       "    '/data/spice/mess-e_v_h-spice-6-v1.0/messsp_1000/extras/mk/msgr_2007_v05.tm',\n",
       "    '/data/spice/mess-e_v_h-spice-6-v1.0/messsp_1000/extras/mk/msgr_2007_v04.tm',\n",
       "    '/data/spice/mess-e_v_h-spice-6-v1.0/messsp_1000/extras/mk/msgr_2007_v03.tm',\n",
       "    '/data/spice/mess-e_v_h-spice-6-v1.0/messsp_1000/extras/mk/msgr_2007_v02.tm',\n",
       "    '/data/spice/mess-e_v_h-spice-6-v1.0/messsp_1000/extras/mk/msgr_2007_v01.tm'],\n",
       "   '2008': ['/data/spice/mess-e_v_h-spice-6-v1.0/messsp_1000/extras/mk/msgr_2008_v12.tm',\n",
       "    '/data/spice/mess-e_v_h-spice-6-v1.0/messsp_1000/extras/mk/msgr_2008_v11.tm',\n",
       "    '/data/spice/mess-e_v_h-spice-6-v1.0/messsp_1000/extras/mk/msgr_2008_v10.tm',\n",
       "    '/data/spice/mess-e_v_h-spice-6-v1.0/messsp_1000/extras/mk/msgr_2008_v09.tm',\n",
       "    '/data/spice/mess-e_v_h-spice-6-v1.0/messsp_1000/extras/mk/msgr_2008_v08.tm',\n",
       "    '/data/spice/mess-e_v_h-spice-6-v1.0/messsp_1000/extras/mk/msgr_2008_v07.tm',\n",
       "    '/data/spice/mess-e_v_h-spice-6-v1.0/messsp_1000/extras/mk/msgr_2008_v06.tm',\n",
       "    '/data/spice/mess-e_v_h-spice-6-v1.0/messsp_1000/extras/mk/msgr_2008_v05.tm',\n",
       "    '/data/spice/mess-e_v_h-spice-6-v1.0/messsp_1000/extras/mk/msgr_2008_v04.tm',\n",
       "    '/data/spice/mess-e_v_h-spice-6-v1.0/messsp_1000/extras/mk/msgr_2008_v03.tm',\n",
       "    '/data/spice/mess-e_v_h-spice-6-v1.0/messsp_1000/extras/mk/msgr_2008_v02.tm',\n",
       "    '/data/spice/mess-e_v_h-spice-6-v1.0/messsp_1000/extras/mk/msgr_2008_v01.tm'],\n",
       "   '2009': ['/data/spice/mess-e_v_h-spice-6-v1.0/messsp_1000/extras/mk/msgr_2009_v10.tm',\n",
       "    '/data/spice/mess-e_v_h-spice-6-v1.0/messsp_1000/extras/mk/msgr_2009_v09.tm',\n",
       "    '/data/spice/mess-e_v_h-spice-6-v1.0/messsp_1000/extras/mk/msgr_2009_v08.tm',\n",
       "    '/data/spice/mess-e_v_h-spice-6-v1.0/messsp_1000/extras/mk/msgr_2009_v07.tm',\n",
       "    '/data/spice/mess-e_v_h-spice-6-v1.0/messsp_1000/extras/mk/msgr_2009_v06.tm',\n",
       "    '/data/spice/mess-e_v_h-spice-6-v1.0/messsp_1000/extras/mk/msgr_2009_v05.tm',\n",
       "    '/data/spice/mess-e_v_h-spice-6-v1.0/messsp_1000/extras/mk/msgr_2009_v04.tm',\n",
       "    '/data/spice/mess-e_v_h-spice-6-v1.0/messsp_1000/extras/mk/msgr_2009_v03.tm',\n",
       "    '/data/spice/mess-e_v_h-spice-6-v1.0/messsp_1000/extras/mk/msgr_2009_v02.tm',\n",
       "    '/data/spice/mess-e_v_h-spice-6-v1.0/messsp_1000/extras/mk/msgr_2009_v01.tm'],\n",
       "   '2010': ['/data/spice/mess-e_v_h-spice-6-v1.0/messsp_1000/extras/mk/msgr_2010_v09.tm',\n",
       "    '/data/spice/mess-e_v_h-spice-6-v1.0/messsp_1000/extras/mk/msgr_2010_v08.tm',\n",
       "    '/data/spice/mess-e_v_h-spice-6-v1.0/messsp_1000/extras/mk/msgr_2010_v07.tm',\n",
       "    '/data/spice/mess-e_v_h-spice-6-v1.0/messsp_1000/extras/mk/msgr_2010_v06.tm',\n",
       "    '/data/spice/mess-e_v_h-spice-6-v1.0/messsp_1000/extras/mk/msgr_2010_v05.tm',\n",
       "    '/data/spice/mess-e_v_h-spice-6-v1.0/messsp_1000/extras/mk/msgr_2010_v04.tm',\n",
       "    '/data/spice/mess-e_v_h-spice-6-v1.0/messsp_1000/extras/mk/msgr_2010_v03.tm',\n",
       "    '/data/spice/mess-e_v_h-spice-6-v1.0/messsp_1000/extras/mk/msgr_2010_v02.tm',\n",
       "    '/data/spice/mess-e_v_h-spice-6-v1.0/messsp_1000/extras/mk/msgr_2010_v01.tm'],\n",
       "   '2011': ['/data/spice/mess-e_v_h-spice-6-v1.0/messsp_1000/extras/mk/msgr_2011_v10.tm',\n",
       "    '/data/spice/mess-e_v_h-spice-6-v1.0/messsp_1000/extras/mk/msgr_2011_v09.tm',\n",
       "    '/data/spice/mess-e_v_h-spice-6-v1.0/messsp_1000/extras/mk/msgr_2011_v08.tm',\n",
       "    '/data/spice/mess-e_v_h-spice-6-v1.0/messsp_1000/extras/mk/msgr_2011_v07.tm',\n",
       "    '/data/spice/mess-e_v_h-spice-6-v1.0/messsp_1000/extras/mk/msgr_2011_v06.tm',\n",
       "    '/data/spice/mess-e_v_h-spice-6-v1.0/messsp_1000/extras/mk/msgr_2011_v05.tm',\n",
       "    '/data/spice/mess-e_v_h-spice-6-v1.0/messsp_1000/extras/mk/msgr_2011_v04.tm',\n",
       "    '/data/spice/mess-e_v_h-spice-6-v1.0/messsp_1000/extras/mk/msgr_2011_v03.tm',\n",
       "    '/data/spice/mess-e_v_h-spice-6-v1.0/messsp_1000/extras/mk/msgr_2011_v02.tm',\n",
       "    '/data/spice/mess-e_v_h-spice-6-v1.0/messsp_1000/extras/mk/msgr_2011_v01.tm'],\n",
       "   '2012': ['/data/spice/mess-e_v_h-spice-6-v1.0/messsp_1000/extras/mk/msgr_2012_v08.tm',\n",
       "    '/data/spice/mess-e_v_h-spice-6-v1.0/messsp_1000/extras/mk/msgr_2012_v07.tm',\n",
       "    '/data/spice/mess-e_v_h-spice-6-v1.0/messsp_1000/extras/mk/msgr_2012_v06.tm',\n",
       "    '/data/spice/mess-e_v_h-spice-6-v1.0/messsp_1000/extras/mk/msgr_2012_v05.tm',\n",
       "    '/data/spice/mess-e_v_h-spice-6-v1.0/messsp_1000/extras/mk/msgr_2012_v04.tm',\n",
       "    '/data/spice/mess-e_v_h-spice-6-v1.0/messsp_1000/extras/mk/msgr_2012_v03.tm',\n",
       "    '/data/spice/mess-e_v_h-spice-6-v1.0/messsp_1000/extras/mk/msgr_2012_v02.tm',\n",
       "    '/data/spice/mess-e_v_h-spice-6-v1.0/messsp_1000/extras/mk/msgr_2012_v01.tm'],\n",
       "   '2013': ['/data/spice/mess-e_v_h-spice-6-v1.0/messsp_1000/extras/mk/msgr_2013_v06.tm',\n",
       "    '/data/spice/mess-e_v_h-spice-6-v1.0/messsp_1000/extras/mk/msgr_2013_v05.tm',\n",
       "    '/data/spice/mess-e_v_h-spice-6-v1.0/messsp_1000/extras/mk/msgr_2013_v04.tm',\n",
       "    '/data/spice/mess-e_v_h-spice-6-v1.0/messsp_1000/extras/mk/msgr_2013_v03.tm',\n",
       "    '/data/spice/mess-e_v_h-spice-6-v1.0/messsp_1000/extras/mk/msgr_2013_v02.tm',\n",
       "    '/data/spice/mess-e_v_h-spice-6-v1.0/messsp_1000/extras/mk/msgr_2013_v01.tm'],\n",
       "   '2014': ['/data/spice/mess-e_v_h-spice-6-v1.0/messsp_1000/extras/mk/msgr_2014_v04.tm',\n",
       "    '/data/spice/mess-e_v_h-spice-6-v1.0/messsp_1000/extras/mk/msgr_2014_v03.tm',\n",
       "    '/data/spice/mess-e_v_h-spice-6-v1.0/messsp_1000/extras/mk/msgr_2014_v02.tm',\n",
       "    '/data/spice/mess-e_v_h-spice-6-v1.0/messsp_1000/extras/mk/msgr_2014_v01.tm'],\n",
       "   '2015': ['/data/spice/mess-e_v_h-spice-6-v1.0/messsp_1000/extras/mk/msgr_2015_v02.tm',\n",
       "    '/data/spice/mess-e_v_h-spice-6-v1.0/messsp_1000/extras/mk/msgr_2015_v01.tm'],\n",
       "   'cklist': ['/data/spice/mess-e_v_h-spice-6-v1.0/messsp_1000/extras/mk/mdis_cklist_v02.tm']}},\n",
       " 'success': True}"
      ]
     },
     "execution_count": 5,
     "metadata": {},
     "output_type": "execute_result"
    }
   ],
   "source": [
    "r = requests.get('http://localhost:5000/api/1.0/mercury/messenger/available_kernels')\n",
    "r.json()"
   ]
  },
  {
   "cell_type": "markdown",
   "metadata": {},
   "source": [
    "## Example generation of the ISD object\n",
    "\n",
    "Notice that every endpoint returns with a `success` key and a `data` key at the top level.  This helps the user know if the call was successful and that all of the response is within the `data` key."
   ]
  },
  {
   "cell_type": "code",
   "execution_count": 23,
   "metadata": {},
   "outputs": [
    {
     "data": {
      "text/plain": [
       "{'data': 'Describe this end point', 'success': True}"
      ]
     },
     "execution_count": 23,
     "metadata": {},
     "output_type": "execute_result"
    }
   ],
   "source": [
    "r = requests.get('http://localhost:5000/api/1.0/csm_isd')\n",
    "r.json()"
   ]
  },
  {
   "cell_type": "code",
   "execution_count": 22,
   "metadata": {
    "scrolled": false
   },
   "outputs": [
    {
     "data": {
      "text/plain": [
       "{'data': {'isd': {'boresight': [0.0, 0.0, 1.0],\n",
       "   'ccd_center': [512.5, 512.5],\n",
       "   'ephemeris_time': 423895046.5997792,\n",
       "   'focal_length': 78.2367,\n",
       "   'focal_length_epsilon': 0.15,\n",
       "   'ifov': 179.6,\n",
       "   'instrument_id': 'MSGR_MDIS_WAC',\n",
       "   'itrans_line': [0.0, -0.0006761060916520159, 71.4399371332522],\n",
       "   'itrans_sample': [0.0, 71.42857143, 0.0],\n",
       "   'kappa': -2.9480471764203147,\n",
       "   'max_elevation': 100,\n",
       "   'min_elevation': -100,\n",
       "   'model_name': 'ISIS_MDISNAC_USGSAstro_1_Linux64_csm30.so',\n",
       "   'nlines': 1024,\n",
       "   'nsamples': 1024,\n",
       "   'odt_x': [0.0,\n",
       "    1.0,\n",
       "    0.0,\n",
       "    -7.720894252056575e-05,\n",
       "    3.599871902138938e-06,\n",
       "    0.0,\n",
       "    5.509035727272325e-06,\n",
       "    0.0,\n",
       "    5.509035727272406e-06,\n",
       "    0.0],\n",
       "   'odt_y': [0.0,\n",
       "    0.0,\n",
       "    1.000000000026148,\n",
       "    0.0,\n",
       "    -7.720894252092194e-05,\n",
       "    3.599871782473616e-06,\n",
       "    0.0,\n",
       "    5.509035621941527e-06,\n",
       "    0.0,\n",
       "    5.5090308738198125e-06],\n",
       "   'omega': 2.901663189203809,\n",
       "   'original_half_lines': 512.0,\n",
       "   'original_half_samples': 512.0,\n",
       "   'phi': -1.0677855685899038,\n",
       "   'pixel_pitch': 0.014,\n",
       "   'semi_major_axis': 2439.4,\n",
       "   'semi_minor_axis': 2439.4,\n",
       "   'spacecraft_name': 'MESSENGER',\n",
       "   'starting_detector_line': 1.0,\n",
       "   'starting_detector_sample': 9.0,\n",
       "   'target_name': 'MERCURY',\n",
       "   'transx': [0.0, 0.01399999999972, 0.0],\n",
       "   'transy': [0.0, 1.32495711261385e-07, 0.013997772676294],\n",
       "   'x_sensor_origin': -1262789.1407866343,\n",
       "   'x_sensor_velocity': 2231.03182974969,\n",
       "   'x_sun_position': -55740238968.15542,\n",
       "   'y_sensor_origin': 854898.0962738676,\n",
       "   'y_sensor_velocity': -2344.5966208144305,\n",
       "   'y_sun_position': 24261226407.59704,\n",
       "   'z_sensor_origin': 2576574.4997884277,\n",
       "   'z_sensor_velocity': 1179.7713300049884,\n",
       "   'z_sun_position': 9585268.720343476},\n",
       "  'loaded_kernels': None},\n",
       " 'success': True}"
      ]
     },
     "execution_count": 22,
     "metadata": {},
     "output_type": "execute_result"
    }
   ],
   "source": [
    "r = requests.post('http://localhost:5000/api/1.0/csm_isd', data=data)\n",
    "r.json()"
   ]
  },
  {
   "cell_type": "markdown",
   "metadata": {},
   "source": [
    "## Use the ISD"
   ]
  },
  {
   "cell_type": "code",
   "execution_count": 7,
   "metadata": {
    "collapsed": true
   },
   "outputs": [],
   "source": [
    "import usgscam as cam\n",
    "from cycsm.isd import Isd"
   ]
  },
  {
   "cell_type": "code",
   "execution_count": 8,
   "metadata": {
    "collapsed": true
   },
   "outputs": [],
   "source": [
    "isd = r.json()['data']['isd']"
   ]
  },
  {
   "cell_type": "code",
   "execution_count": 9,
   "metadata": {
    "collapsed": true
   },
   "outputs": [],
   "source": [
    "i = Isd.loads(isd)"
   ]
  },
  {
   "cell_type": "code",
   "execution_count": 10,
   "metadata": {
    "collapsed": true
   },
   "outputs": [],
   "source": [
    "plugin = cam.mdis.MdisPlugin()\n",
    "camera = plugin.from_isd(i, plugin.modelname(0))"
   ]
  },
  {
   "cell_type": "code",
   "execution_count": 11,
   "metadata": {},
   "outputs": [
    {
     "data": {
      "text/plain": [
       "(1024.0, 1024.0)"
      ]
     },
     "execution_count": 11,
     "metadata": {},
     "output_type": "execute_result"
    }
   ],
   "source": [
    "camera.imagesize"
   ]
  },
  {
   "cell_type": "code",
   "execution_count": 12,
   "metadata": {},
   "outputs": [
    {
     "data": {
      "text/plain": [
       "[-1108876.4666681145, -2124897.510113989, -453735.5101609463]"
      ]
     },
     "execution_count": 12,
     "metadata": {},
     "output_type": "execute_result"
    }
   ],
   "source": [
    "xyz = camera.imageToGround(512.5, 512.5, 0)\n",
    "xyz"
   ]
  },
  {
   "cell_type": "code",
   "execution_count": 13,
   "metadata": {},
   "outputs": [
    {
     "data": {
      "text/plain": [
       "[512.5000000000206, 512.5000000000109]"
      ]
     },
     "execution_count": 13,
     "metadata": {},
     "output_type": "execute_result"
    }
   ],
   "source": [
    "camera.groundToImage(*xyz)"
   ]
  },
  {
   "cell_type": "markdown",
   "metadata": {},
   "source": [
    "## Random Messenger Image\n",
    "\n",
    "The above could be perceived as being too canned.  Here, pull a random image from the PDS and instantiate a camera model."
   ]
  },
  {
   "cell_type": "code",
   "execution_count": 14,
   "metadata": {
    "collapsed": true
   },
   "outputs": [],
   "source": [
    "from ftplib import FTP\n",
    "import os\n",
    "from random import choice"
   ]
  },
  {
   "cell_type": "code",
   "execution_count": 15,
   "metadata": {},
   "outputs": [],
   "source": [
    "# Run only once to avoid too many open FTP connections\n",
    "ftp = FTP('pdsimage2.wr.usgs.gov')\n",
    "ftp.login()\n",
    "dirs = ftp.nlst('archive/mess-e_v_h-mdis-2-edr-rawdata-v1.0/MSGRMDS_1001/DATA/')"
   ]
  },
  {
   "cell_type": "code",
   "execution_count": 19,
   "metadata": {},
   "outputs": [],
   "source": [
    "data_dir = choice(dirs)\n",
    "f = choice(ftp.nlst(data_dir))\n",
    "fname = os.path.basename(f)\n",
    "with open('/data/messenger_sample/{}'.format(fname), 'wb') as file:\n",
    "    ftp.retrbinary('RETR {}'.format(f), file.write)"
   ]
  },
  {
   "cell_type": "code",
   "execution_count": 20,
   "metadata": {},
   "outputs": [],
   "source": [
    "newfile = os.path.join('/data/messenger_sample/{}'.format(fname))"
   ]
  },
  {
   "cell_type": "code",
   "execution_count": 21,
   "metadata": {
    "scrolled": false
   },
   "outputs": [
    {
     "name": "stdout",
     "output_type": "stream",
     "text": [
      "Processing a new image: /data/messenger_sample/EW1012946978D.IMG\n",
      "[-722219.633387954, 583190.2862394641, 2255872.392486973]\n"
     ]
    },
    {
     "data": {
      "text/plain": [
       "[512.5000000007078, 512.4999999999983]"
      ]
     },
     "execution_count": 21,
     "metadata": {},
     "output_type": "execute_result"
    }
   ],
   "source": [
    "# Simple helper function to use the API\n",
    "def create_data_pacakge(in_file):\n",
    "    label = pvl.load(in_file)\n",
    "    data = {'target_name': label['TARGET_NAME'],\n",
    "            'capture_date': label['START_TIME'].isoformat(),\n",
    "            'instrument': label['INSTRUMENT_NAME'], \n",
    "            'focal_plane_temperature': label['FOCAL_PLANE_TEMPERATURE'].value,\n",
    "            'spacecraft_id' : label['INSTRUMENT_HOST_NAME'],\n",
    "            'spacecraft_clock_count': label['SPACECRAFT_CLOCK_START_COUNT'],\n",
    "            'exposure_duration': label['EXPOSURE_DURATION'].value,\n",
    "            'lighttime_correction':'LT+S', \n",
    "            'min_elevation': -100,\n",
    "            'max_elevation': 100,\n",
    "            }\n",
    "    return json.dumps(data)\n",
    "\n",
    "print('Processing a new image: {}'.format(newfile))\n",
    "\n",
    "# Call the func to create the data package for submission to the micro-service\n",
    "data = create_data_pacakge(newfile)\n",
    "\n",
    "# Call the micro-service\n",
    "r = requests.post('http://localhost:5000/api/1.0/csm_isd', data=data)\n",
    "\n",
    "# Get the ISD back and instantiate a local ISD for the image\n",
    "isd = r.json()['data']['isd']\n",
    "i = Isd.loads(isd)\n",
    "\n",
    "# Create the plugin and camera as usual\n",
    "plugin = cam.mdis.MdisPlugin()\n",
    "camera = plugin.from_isd(i, plugin.modelname(0))\n",
    "\n",
    "# Call I2G\n",
    "xyz = camera.imageToGround(512.5, 512.5, 0)\n",
    "print(xyz)\n",
    "\n",
    "# Call G2I\n",
    "camera.groundToImage(*xyz)"
   ]
  },
  {
   "cell_type": "code",
   "execution_count": null,
   "metadata": {
    "collapsed": true
   },
   "outputs": [],
   "source": []
  }
 ],
 "metadata": {
  "kernelspec": {
   "display_name": "USGS Camera",
   "language": "python",
   "name": "camera"
  },
  "language_info": {
   "codemirror_mode": {
    "name": "ipython",
    "version": 3
   },
   "file_extension": ".py",
   "mimetype": "text/x-python",
   "name": "python",
   "nbconvert_exporter": "python",
   "pygments_lexer": "ipython3",
   "version": "3.6.1"
  }
 },
 "nbformat": 4,
 "nbformat_minor": 2
}
