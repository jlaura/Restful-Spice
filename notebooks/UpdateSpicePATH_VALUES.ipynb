{
 "cells": [
  {
   "cell_type": "code",
   "execution_count": 18,
   "metadata": {
    "collapsed": true
   },
   "outputs": [],
   "source": [
    "import glob\n",
    "import fileinput"
   ]
  },
  {
   "cell_type": "code",
   "execution_count": 39,
   "metadata": {
    "collapsed": true
   },
   "outputs": [],
   "source": [
    "# Change me to whereever the meta kernels live\n",
    "files = glob.glob('/data/spice/mess-e_v_h-spice-6-v1.0/messsp_1000/extras/mk/*.tm')"
   ]
  },
  {
   "cell_type": "code",
   "execution_count": 42,
   "metadata": {},
   "outputs": [],
   "source": [
    "# Change the path below to point to whereever the data path lives.\n",
    "# This makes a backup (.bak) of the originals\n",
    "'for file in files:\n",
    "    for line in fileinput.input(file, inplace=True, backup='.bak'):\n",
    "        if 'PATH_VALUES' in line and '=' in line:\n",
    "            print(\"      PATH_VALUES     = ( '/data/spice/mess-e_v_h-spice-6-v1.0/messsp_1000/data/' )\")\n",
    "        else:\n",
    "            print(line)"
   ]
  }
 ],
 "metadata": {
  "kernelspec": {
   "display_name": "USGS Camera",
   "language": "python",
   "name": "camera"
  },
  "language_info": {
   "codemirror_mode": {
    "name": "ipython",
    "version": 3
   },
   "file_extension": ".py",
   "mimetype": "text/x-python",
   "name": "python",
   "nbconvert_exporter": "python",
   "pygments_lexer": "ipython3",
   "version": "3.6.1"
  }
 },
 "nbformat": 4,
 "nbformat_minor": 2
}
